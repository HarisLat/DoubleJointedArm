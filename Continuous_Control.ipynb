{
 "cells": [
  {
   "cell_type": "markdown",
   "metadata": {},
   "source": [
    "# Continuous Control\n",
    "\n",
    "---\n",
    "\n",
    "In this notebook, you will learn how to use the Unity ML-Agents environment for the second project of the [Deep Reinforcement Learning Nanodegree](https://www.udacity.com/course/deep-reinforcement-learning-nanodegree--nd893) program.\n",
    "\n",
    "### 1. Start the Environment\n",
    "\n",
    "We begin by importing the necessary packages.  If the code cell below returns an error, please revisit the project instructions to double-check that you have installed [Unity ML-Agents](https://github.com/Unity-Technologies/ml-agents/blob/master/docs/Installation.md) and [NumPy](http://www.numpy.org/)."
   ]
  },
  {
   "cell_type": "code",
   "execution_count": 1,
   "metadata": {},
   "outputs": [],
   "source": [
    "from unityagents import UnityEnvironment\n",
    "import numpy as np"
   ]
  },
  {
   "cell_type": "markdown",
   "metadata": {},
   "source": [
    "Next, we will start the environment!  **_Before running the code cell below_**, change the `file_name` parameter to match the location of the Unity environment that you downloaded.\n",
    "\n",
    "- **Mac**: `\"path/to/Reacher.app\"`\n",
    "- **Windows** (x86): `\"path/to/Reacher_Windows_x86/Reacher.exe\"`\n",
    "- **Windows** (x86_64): `\"path/to/Reacher_Windows_x86_64/Reacher.exe\"`\n",
    "- **Linux** (x86): `\"path/to/Reacher_Linux/Reacher.x86\"`\n",
    "- **Linux** (x86_64): `\"path/to/Reacher_Linux/Reacher.x86_64\"`\n",
    "- **Linux** (x86, headless): `\"path/to/Reacher_Linux_NoVis/Reacher.x86\"`\n",
    "- **Linux** (x86_64, headless): `\"path/to/Reacher_Linux_NoVis/Reacher.x86_64\"`\n",
    "\n",
    "For instance, if you are using a Mac, then you downloaded `Reacher.app`.  If this file is in the same folder as the notebook, then the line below should appear as follows:\n",
    "```\n",
    "env = UnityEnvironment(file_name=\"Reacher.app\")\n",
    "```"
   ]
  },
  {
   "cell_type": "code",
   "execution_count": 2,
   "metadata": {},
   "outputs": [
    {
     "name": "stderr",
     "output_type": "stream",
     "text": [
      "INFO:unityagents:\n",
      "'Academy' started successfully!\n",
      "Unity Academy name: Academy\n",
      "        Number of Brains: 1\n",
      "        Number of External Brains : 1\n",
      "        Lesson number : 0\n",
      "        Reset Parameters :\n",
      "\t\tgoal_speed -> 1.0\n",
      "\t\tgoal_size -> 5.0\n",
      "Unity brain name: ReacherBrain\n",
      "        Number of Visual Observations (per agent): 0\n",
      "        Vector Observation space type: continuous\n",
      "        Vector Observation space size (per agent): 33\n",
      "        Number of stacked Vector Observation: 1\n",
      "        Vector Action space type: continuous\n",
      "        Vector Action space size (per agent): 4\n",
      "        Vector Action descriptions: , , , \n"
     ]
    }
   ],
   "source": [
    "env = UnityEnvironment(file_name='Reacher.app',worker_id=1, seed=1)"
   ]
  },
  {
   "cell_type": "markdown",
   "metadata": {},
   "source": [
    "Environments contain **_brains_** which are responsible for deciding the actions of their associated agents. Here we check for the first brain available, and set it as the default brain we will be controlling from Python."
   ]
  },
  {
   "cell_type": "code",
   "execution_count": 3,
   "metadata": {},
   "outputs": [],
   "source": [
    "# get the default brain\n",
    "brain_name = env.brain_names[0]\n",
    "brain = env.brains[brain_name]"
   ]
  },
  {
   "cell_type": "markdown",
   "metadata": {},
   "source": [
    "### 2. Examine the State and Action Spaces\n",
    "\n",
    "In this environment, a double-jointed arm can move to target locations. A reward of `+0.1` is provided for each step that the agent's hand is in the goal location. Thus, the goal of your agent is to maintain its position at the target location for as many time steps as possible.\n",
    "\n",
    "The observation space consists of `33` variables corresponding to position, rotation, velocity, and angular velocities of the arm.  Each action is a vector with four numbers, corresponding to torque applicable to two joints.  Every entry in the action vector must be a number between `-1` and `1`.\n",
    "\n",
    "Run the code cell below to print some information about the environment."
   ]
  },
  {
   "cell_type": "code",
   "execution_count": 4,
   "metadata": {},
   "outputs": [
    {
     "name": "stdout",
     "output_type": "stream",
     "text": [
      "Number of agents: 20\n",
      "Size of each action: 4\n",
      "There are 20 agents. Each observes a state with length: 33\n",
      "The state for the first agent looks like: [ 0.00000000e+00 -4.00000000e+00  0.00000000e+00  1.00000000e+00\n",
      " -0.00000000e+00 -0.00000000e+00 -4.37113883e-08  0.00000000e+00\n",
      "  0.00000000e+00  0.00000000e+00  0.00000000e+00  0.00000000e+00\n",
      "  0.00000000e+00  0.00000000e+00 -1.00000000e+01  0.00000000e+00\n",
      "  1.00000000e+00 -0.00000000e+00 -0.00000000e+00 -4.37113883e-08\n",
      "  0.00000000e+00  0.00000000e+00  0.00000000e+00  0.00000000e+00\n",
      "  0.00000000e+00  0.00000000e+00 -7.98051071e+00 -1.00000000e+00\n",
      "  5.58052063e-01  0.00000000e+00  1.00000000e+00  0.00000000e+00\n",
      " -5.48525572e-01]\n"
     ]
    }
   ],
   "source": [
    "# reset the environment\n",
    "env_info = env.reset(train_mode=True)[brain_name]\n",
    "\n",
    "# number of agents\n",
    "num_agents = len(env_info.agents)\n",
    "print('Number of agents:', num_agents)\n",
    "\n",
    "# size of each action\n",
    "action_size = brain.vector_action_space_size\n",
    "print('Size of each action:', action_size)\n",
    "\n",
    "# examine the state space \n",
    "states = env_info.vector_observations\n",
    "state_size = states.shape[1]\n",
    "print('There are {} agents. Each observes a state with length: {}'.format(states.shape[0], state_size))\n",
    "print('The state for the first agent looks like:', states[0])"
   ]
  },
  {
   "cell_type": "markdown",
   "metadata": {},
   "source": [
    "### 3. Take Random Actions in the Environment\n",
    "\n",
    "In the next code cell, you will learn how to use the Python API to control the agent and receive feedback from the environment.\n",
    "\n",
    "Once this cell is executed, you will watch the agent's performance, if it selects an action at random with each time step.  A window should pop up that allows you to observe the agent, as it moves through the environment.  \n",
    "\n",
    "Of course, as part of the project, you'll have to change the code so that the agent is able to use its experience to gradually choose better actions when interacting with the environment!"
   ]
  },
  {
   "cell_type": "code",
   "execution_count": 5,
   "metadata": {},
   "outputs": [],
   "source": [
    "#env_info = env.reset(train_mode=False)[brain_name]     # reset the environment    \n",
    "#states = env_info.vector_observations                  # get the current state (for each agent)\n",
    "#scores = np.zeros(num_agents)                          # initialize the score (for each agent)\n",
    "#while True:\n",
    "#    actions = np.random.randn(num_agents, action_size) # select an action (for each agent)\n",
    "#    actions = np.clip(actions, -1, 1)                  # all actions between -1 and 1\n",
    "#    env_info = env.step(actions)[brain_name]           # send all actions to tne environment\n",
    "#    next_states = env_info.vector_observations         # get next state (for each agent)\n",
    "#    rewards = env_info.rewards                         # get reward (for each agent)\n",
    "#    dones = env_info.local_done                        # see if episode finished\n",
    "#    scores += env_info.rewards                         # update the score (for each agent)\n",
    "#    states = next_states                               # roll over states to next time step\n",
    "#    if np.any(dones):                                  # exit loop if episode finished\n",
    "#        break\n",
    "#print('Total score (averaged over agents) this episode: {}'.format(np.mean(scores)))"
   ]
  },
  {
   "cell_type": "markdown",
   "metadata": {},
   "source": [
    "When finished, you can close the environment."
   ]
  },
  {
   "cell_type": "code",
   "execution_count": 6,
   "metadata": {},
   "outputs": [],
   "source": [
    "#env.close()"
   ]
  },
  {
   "cell_type": "markdown",
   "metadata": {},
   "source": [
    "%load_ext autoreload\n",
    "%autoreload 2### 4. It's Your Turn!\n",
    "\n",
    "Now it's your turn to train your own agent to solve the environment!  When training the environment, set `train_mode=True`, so that the line for resetting the environment looks like the following:\n",
    "```python\n",
    "env_info = env.reset(train_mode=True)[brain_name]\n",
    "```"
   ]
  },
  {
   "cell_type": "code",
   "execution_count": 7,
   "metadata": {},
   "outputs": [],
   "source": [
    "%load_ext autoreload\n",
    "%autoreload 2"
   ]
  },
  {
   "cell_type": "code",
   "execution_count": 8,
   "metadata": {},
   "outputs": [],
   "source": [
    "# Import packages and external classes \n",
    "from ddpg_agent import Agent \n",
    "from collections import deque \n",
    "import torch \n",
    "import matplotlib.pyplot as plt\n",
    "\n",
    "agent = Agent(state_size=state_size, n_agents = num_agents, action_size=action_size, random_seed=2)"
   ]
  },
  {
   "cell_type": "code",
   "execution_count": 9,
   "metadata": {},
   "outputs": [],
   "source": [
    "def ddpg(n_episodes=1000, print_every=100):\n",
    "    scores_window = deque(maxlen=print_every)\n",
    "    scores = []\n",
    "    for i_episode in range(1, n_episodes+1):\n",
    "        env_info = env.reset(train_mode=True)[brain_name]     # reset the environment  \n",
    "        states = env_info.vector_observations\n",
    "        agent.reset()                                         # reset the agent noise\n",
    "        score = np.zeros(num_agents)\n",
    "        while True:\n",
    "            actions = agent.act(states)\n",
    "            env_info = env.step(actions)[brain_name]               # send the action to the environment                            \n",
    "            next_states = env_info.vector_observations             # get the next state        \n",
    "            rewards = env_info.rewards                             # get the reward        \n",
    "            dones = env_info.local_done                            # see if episode has finished     \n",
    "            agent.step(states, actions, rewards, next_states, dones)\n",
    "            score += rewards                                       # update the score\n",
    "            states = next_states                                   # roll over the state to next time step        \n",
    "            \n",
    "            if np.any( dones ):                                    # exit loop if episode finished        \n",
    "                break    \n",
    "                \n",
    "        scores.append(np.mean(score))\n",
    "        scores_window.append(np.mean(scores))\n",
    "        torch.save(agent.actor_local.state_dict(), 'checkpoint_actor.pth')\n",
    "        torch.save(agent.critic_local.state_dict(), 'checkpoint_critic.pth')\n",
    "        \n",
    "        #if i_episode % print_every == 0:\n",
    "        print('\\rEpisode {}\\tAverage Score: {:.2f}'.format(i_episode, np.mean(scores)))\n",
    "\n",
    "        if np.mean(scores) >= 30.0:\n",
    "            print('\\nEnvironment solved in {:d} episodes!\\tAverage Score: {:.2f}'.format(i_episode, np.mean(scores)))\n",
    "            break  \n",
    "            \n",
    "    return scores, scores_window"
   ]
  },
  {
   "cell_type": "code",
   "execution_count": 10,
   "metadata": {},
   "outputs": [
    {
     "name": "stdout",
     "output_type": "stream",
     "text": [
      "Episode 1\tAverage Score: 0.13\n",
      "Episode 2\tAverage Score: 0.20\n",
      "Episode 3\tAverage Score: 0.35\n",
      "Episode 4\tAverage Score: 0.45\n",
      "Episode 5\tAverage Score: 0.52\n",
      "Episode 6\tAverage Score: 0.54\n",
      "Episode 7\tAverage Score: 0.57\n",
      "Episode 8\tAverage Score: 0.64\n",
      "Episode 9\tAverage Score: 0.70\n",
      "Episode 10\tAverage Score: 0.76\n",
      "Episode 11\tAverage Score: 0.79\n",
      "Episode 12\tAverage Score: 0.89\n",
      "Episode 13\tAverage Score: 0.99\n",
      "Episode 14\tAverage Score: 1.05\n",
      "Episode 15\tAverage Score: 1.14\n",
      "Episode 16\tAverage Score: 1.27\n",
      "Episode 17\tAverage Score: 1.41\n",
      "Episode 18\tAverage Score: 1.54\n",
      "Episode 19\tAverage Score: 1.69\n",
      "Episode 20\tAverage Score: 1.88\n",
      "Episode 21\tAverage Score: 2.08\n",
      "Episode 22\tAverage Score: 2.33\n",
      "Episode 23\tAverage Score: 2.54\n",
      "Episode 24\tAverage Score: 2.79\n",
      "Episode 25\tAverage Score: 3.01\n",
      "Episode 26\tAverage Score: 3.25\n",
      "Episode 27\tAverage Score: 3.50\n",
      "Episode 28\tAverage Score: 3.77\n",
      "Episode 29\tAverage Score: 3.98\n",
      "Episode 30\tAverage Score: 4.30\n",
      "Episode 31\tAverage Score: 4.63\n",
      "Episode 32\tAverage Score: 4.98\n",
      "Episode 33\tAverage Score: 5.40\n",
      "Episode 34\tAverage Score: 5.91\n",
      "Episode 35\tAverage Score: 6.43\n",
      "Episode 36\tAverage Score: 6.94\n",
      "Episode 37\tAverage Score: 7.50\n",
      "Episode 38\tAverage Score: 8.12\n",
      "Episode 39\tAverage Score: 8.70\n",
      "Episode 40\tAverage Score: 9.28\n",
      "Episode 41\tAverage Score: 9.82\n",
      "Episode 42\tAverage Score: 10.36\n",
      "Episode 43\tAverage Score: 10.88\n",
      "Episode 44\tAverage Score: 11.38\n",
      "Episode 45\tAverage Score: 11.91\n",
      "Episode 46\tAverage Score: 12.39\n",
      "Episode 47\tAverage Score: 12.86\n",
      "Episode 48\tAverage Score: 13.30\n",
      "Episode 49\tAverage Score: 13.74\n",
      "Episode 50\tAverage Score: 14.17\n",
      "Episode 51\tAverage Score: 14.59\n",
      "Episode 52\tAverage Score: 15.00\n",
      "Episode 53\tAverage Score: 15.41\n",
      "Episode 54\tAverage Score: 15.80\n",
      "Episode 55\tAverage Score: 16.16\n",
      "Episode 56\tAverage Score: 16.53\n",
      "Episode 57\tAverage Score: 16.88\n",
      "Episode 58\tAverage Score: 17.21\n",
      "Episode 59\tAverage Score: 17.54\n",
      "Episode 60\tAverage Score: 17.86\n",
      "Episode 61\tAverage Score: 18.17\n",
      "Episode 62\tAverage Score: 18.47\n",
      "Episode 63\tAverage Score: 18.77\n",
      "Episode 64\tAverage Score: 19.06\n",
      "Episode 65\tAverage Score: 19.34\n",
      "Episode 66\tAverage Score: 19.60\n",
      "Episode 67\tAverage Score: 19.86\n",
      "Episode 68\tAverage Score: 20.09\n",
      "Episode 69\tAverage Score: 20.28\n",
      "Episode 70\tAverage Score: 20.49\n",
      "Episode 71\tAverage Score: 20.68\n",
      "Episode 72\tAverage Score: 20.88\n",
      "Episode 73\tAverage Score: 21.07\n",
      "Episode 74\tAverage Score: 21.27\n",
      "Episode 75\tAverage Score: 21.47\n",
      "Episode 76\tAverage Score: 21.66\n",
      "Episode 77\tAverage Score: 21.83\n",
      "Episode 78\tAverage Score: 22.01\n",
      "Episode 79\tAverage Score: 22.18\n",
      "Episode 80\tAverage Score: 22.34\n",
      "Episode 81\tAverage Score: 22.48\n",
      "Episode 82\tAverage Score: 22.61\n",
      "Episode 83\tAverage Score: 22.76\n",
      "Episode 84\tAverage Score: 22.89\n",
      "Episode 85\tAverage Score: 23.03\n",
      "Episode 86\tAverage Score: 23.17\n",
      "Episode 87\tAverage Score: 23.32\n",
      "Episode 88\tAverage Score: 23.47\n",
      "Episode 89\tAverage Score: 23.62\n",
      "Episode 90\tAverage Score: 23.77\n",
      "Episode 91\tAverage Score: 23.92\n",
      "Episode 92\tAverage Score: 24.07\n",
      "Episode 93\tAverage Score: 24.21\n",
      "Episode 94\tAverage Score: 24.35\n",
      "Episode 95\tAverage Score: 24.48\n",
      "Episode 96\tAverage Score: 24.61\n",
      "Episode 97\tAverage Score: 24.75\n",
      "Episode 98\tAverage Score: 24.87\n",
      "Episode 99\tAverage Score: 24.99\n",
      "Episode 100\tAverage Score: 25.09\n",
      "Episode 101\tAverage Score: 25.21\n",
      "Episode 102\tAverage Score: 25.32\n",
      "Episode 103\tAverage Score: 25.44\n",
      "Episode 104\tAverage Score: 25.55\n",
      "Episode 105\tAverage Score: 25.66\n",
      "Episode 106\tAverage Score: 25.75\n",
      "Episode 107\tAverage Score: 25.85\n",
      "Episode 108\tAverage Score: 25.96\n",
      "Episode 109\tAverage Score: 26.05\n",
      "Episode 110\tAverage Score: 26.15\n",
      "Episode 111\tAverage Score: 26.25\n",
      "Episode 112\tAverage Score: 26.34\n",
      "Episode 113\tAverage Score: 26.44\n",
      "Episode 114\tAverage Score: 26.53\n",
      "Episode 115\tAverage Score: 26.62\n",
      "Episode 116\tAverage Score: 26.72\n",
      "Episode 117\tAverage Score: 26.80\n",
      "Episode 118\tAverage Score: 26.89\n",
      "Episode 119\tAverage Score: 26.97\n",
      "Episode 120\tAverage Score: 27.04\n",
      "Episode 121\tAverage Score: 27.12\n",
      "Episode 122\tAverage Score: 27.19\n",
      "Episode 123\tAverage Score: 27.28\n",
      "Episode 124\tAverage Score: 27.36\n",
      "Episode 125\tAverage Score: 27.44\n",
      "Episode 126\tAverage Score: 27.51\n",
      "Episode 127\tAverage Score: 27.58\n",
      "Episode 128\tAverage Score: 27.66\n",
      "Episode 129\tAverage Score: 27.73\n",
      "Episode 130\tAverage Score: 27.81\n",
      "Episode 131\tAverage Score: 27.87\n",
      "Episode 132\tAverage Score: 27.95\n",
      "Episode 133\tAverage Score: 28.01\n",
      "Episode 134\tAverage Score: 28.08\n",
      "Episode 135\tAverage Score: 28.13\n",
      "Episode 136\tAverage Score: 28.17\n",
      "Episode 137\tAverage Score: 28.23\n",
      "Episode 138\tAverage Score: 28.29\n",
      "Episode 139\tAverage Score: 28.34\n",
      "Episode 140\tAverage Score: 28.40\n",
      "Episode 141\tAverage Score: 28.45\n",
      "Episode 142\tAverage Score: 28.51\n",
      "Episode 143\tAverage Score: 28.56\n",
      "Episode 144\tAverage Score: 28.61\n",
      "Episode 145\tAverage Score: 28.65\n",
      "Episode 146\tAverage Score: 28.70\n",
      "Episode 147\tAverage Score: 28.75\n",
      "Episode 148\tAverage Score: 28.80\n",
      "Episode 149\tAverage Score: 28.84\n",
      "Episode 150\tAverage Score: 28.89\n",
      "Episode 151\tAverage Score: 28.93\n",
      "Episode 152\tAverage Score: 28.96\n",
      "Episode 153\tAverage Score: 28.99\n",
      "Episode 154\tAverage Score: 29.03\n",
      "Episode 155\tAverage Score: 29.07\n",
      "Episode 156\tAverage Score: 29.12\n",
      "Episode 157\tAverage Score: 29.17\n",
      "Episode 158\tAverage Score: 29.22\n",
      "Episode 159\tAverage Score: 29.26\n",
      "Episode 160\tAverage Score: 29.31\n",
      "Episode 161\tAverage Score: 29.35\n",
      "Episode 162\tAverage Score: 29.40\n",
      "Episode 163\tAverage Score: 29.44\n",
      "Episode 164\tAverage Score: 29.48\n",
      "Episode 165\tAverage Score: 29.51\n",
      "Episode 166\tAverage Score: 29.54\n",
      "Episode 167\tAverage Score: 29.58\n",
      "Episode 168\tAverage Score: 29.62\n",
      "Episode 169\tAverage Score: 29.65\n",
      "Episode 170\tAverage Score: 29.69\n",
      "Episode 171\tAverage Score: 29.72\n",
      "Episode 172\tAverage Score: 29.76\n",
      "Episode 173\tAverage Score: 29.80\n",
      "Episode 174\tAverage Score: 29.84\n",
      "Episode 175\tAverage Score: 29.88\n",
      "Episode 176\tAverage Score: 29.92\n",
      "Episode 177\tAverage Score: 29.96\n",
      "Episode 178\tAverage Score: 29.99\n",
      "Episode 179\tAverage Score: 30.03\n",
      "\n",
      "Environment solved in 179 episodes!\tAverage Score: 30.03\n"
     ]
    },
    {
     "ename": "ValueError",
     "evalue": "x and y must have same first dimension, but have shapes (179,) and (100,)",
     "output_type": "error",
     "traceback": [
      "\u001b[0;31m---------------------------------------------------------------------------\u001b[0m",
      "\u001b[0;31mValueError\u001b[0m                                Traceback (most recent call last)",
      "\u001b[0;32m<ipython-input-10-ee7b0c5eef31>\u001b[0m in \u001b[0;36m<module>\u001b[0;34m\u001b[0m\n\u001b[1;32m      3\u001b[0m \u001b[0mfig\u001b[0m \u001b[0;34m=\u001b[0m \u001b[0mplt\u001b[0m\u001b[0;34m.\u001b[0m\u001b[0mfigure\u001b[0m\u001b[0;34m(\u001b[0m\u001b[0;34m)\u001b[0m\u001b[0;34m\u001b[0m\u001b[0;34m\u001b[0m\u001b[0m\n\u001b[1;32m      4\u001b[0m \u001b[0max\u001b[0m \u001b[0;34m=\u001b[0m \u001b[0mfig\u001b[0m\u001b[0;34m.\u001b[0m\u001b[0madd_subplot\u001b[0m\u001b[0;34m(\u001b[0m\u001b[0;36m111\u001b[0m\u001b[0;34m)\u001b[0m\u001b[0;34m\u001b[0m\u001b[0;34m\u001b[0m\u001b[0m\n\u001b[0;32m----> 5\u001b[0;31m \u001b[0mplt\u001b[0m\u001b[0;34m.\u001b[0m\u001b[0mplot\u001b[0m\u001b[0;34m(\u001b[0m\u001b[0mnp\u001b[0m\u001b[0;34m.\u001b[0m\u001b[0marange\u001b[0m\u001b[0;34m(\u001b[0m\u001b[0;36m1\u001b[0m\u001b[0;34m,\u001b[0m \u001b[0mlen\u001b[0m\u001b[0;34m(\u001b[0m\u001b[0mscores\u001b[0m\u001b[0;34m)\u001b[0m\u001b[0;34m+\u001b[0m\u001b[0;36m1\u001b[0m\u001b[0;34m)\u001b[0m\u001b[0;34m,\u001b[0m \u001b[0mscores_window\u001b[0m\u001b[0;34m)\u001b[0m\u001b[0;34m\u001b[0m\u001b[0;34m\u001b[0m\u001b[0m\n\u001b[0m\u001b[1;32m      6\u001b[0m \u001b[0mplt\u001b[0m\u001b[0;34m.\u001b[0m\u001b[0mylabel\u001b[0m\u001b[0;34m(\u001b[0m\u001b[0;34m'Score'\u001b[0m\u001b[0;34m)\u001b[0m\u001b[0;34m\u001b[0m\u001b[0;34m\u001b[0m\u001b[0m\n\u001b[1;32m      7\u001b[0m \u001b[0mplt\u001b[0m\u001b[0;34m.\u001b[0m\u001b[0mxlabel\u001b[0m\u001b[0;34m(\u001b[0m\u001b[0;34m'Episode #'\u001b[0m\u001b[0;34m)\u001b[0m\u001b[0;34m\u001b[0m\u001b[0;34m\u001b[0m\u001b[0m\n",
      "\u001b[0;32m~/opt/anaconda3/envs/drlnd/lib/python3.6/site-packages/matplotlib/pyplot.py\u001b[0m in \u001b[0;36mplot\u001b[0;34m(scalex, scaley, data, *args, **kwargs)\u001b[0m\n\u001b[1;32m   2840\u001b[0m     return gca().plot(\n\u001b[1;32m   2841\u001b[0m         \u001b[0;34m*\u001b[0m\u001b[0margs\u001b[0m\u001b[0;34m,\u001b[0m \u001b[0mscalex\u001b[0m\u001b[0;34m=\u001b[0m\u001b[0mscalex\u001b[0m\u001b[0;34m,\u001b[0m \u001b[0mscaley\u001b[0m\u001b[0;34m=\u001b[0m\u001b[0mscaley\u001b[0m\u001b[0;34m,\u001b[0m\u001b[0;34m\u001b[0m\u001b[0;34m\u001b[0m\u001b[0m\n\u001b[0;32m-> 2842\u001b[0;31m         **({\"data\": data} if data is not None else {}), **kwargs)\n\u001b[0m\u001b[1;32m   2843\u001b[0m \u001b[0;34m\u001b[0m\u001b[0m\n\u001b[1;32m   2844\u001b[0m \u001b[0;34m\u001b[0m\u001b[0m\n",
      "\u001b[0;32m~/opt/anaconda3/envs/drlnd/lib/python3.6/site-packages/matplotlib/axes/_axes.py\u001b[0m in \u001b[0;36mplot\u001b[0;34m(self, scalex, scaley, data, *args, **kwargs)\u001b[0m\n\u001b[1;32m   1741\u001b[0m         \"\"\"\n\u001b[1;32m   1742\u001b[0m         \u001b[0mkwargs\u001b[0m \u001b[0;34m=\u001b[0m \u001b[0mcbook\u001b[0m\u001b[0;34m.\u001b[0m\u001b[0mnormalize_kwargs\u001b[0m\u001b[0;34m(\u001b[0m\u001b[0mkwargs\u001b[0m\u001b[0;34m,\u001b[0m \u001b[0mmlines\u001b[0m\u001b[0;34m.\u001b[0m\u001b[0mLine2D\u001b[0m\u001b[0;34m)\u001b[0m\u001b[0;34m\u001b[0m\u001b[0;34m\u001b[0m\u001b[0m\n\u001b[0;32m-> 1743\u001b[0;31m         \u001b[0mlines\u001b[0m \u001b[0;34m=\u001b[0m \u001b[0;34m[\u001b[0m\u001b[0;34m*\u001b[0m\u001b[0mself\u001b[0m\u001b[0;34m.\u001b[0m\u001b[0m_get_lines\u001b[0m\u001b[0;34m(\u001b[0m\u001b[0;34m*\u001b[0m\u001b[0margs\u001b[0m\u001b[0;34m,\u001b[0m \u001b[0mdata\u001b[0m\u001b[0;34m=\u001b[0m\u001b[0mdata\u001b[0m\u001b[0;34m,\u001b[0m \u001b[0;34m**\u001b[0m\u001b[0mkwargs\u001b[0m\u001b[0;34m)\u001b[0m\u001b[0;34m]\u001b[0m\u001b[0;34m\u001b[0m\u001b[0;34m\u001b[0m\u001b[0m\n\u001b[0m\u001b[1;32m   1744\u001b[0m         \u001b[0;32mfor\u001b[0m \u001b[0mline\u001b[0m \u001b[0;32min\u001b[0m \u001b[0mlines\u001b[0m\u001b[0;34m:\u001b[0m\u001b[0;34m\u001b[0m\u001b[0;34m\u001b[0m\u001b[0m\n\u001b[1;32m   1745\u001b[0m             \u001b[0mself\u001b[0m\u001b[0;34m.\u001b[0m\u001b[0madd_line\u001b[0m\u001b[0;34m(\u001b[0m\u001b[0mline\u001b[0m\u001b[0;34m)\u001b[0m\u001b[0;34m\u001b[0m\u001b[0;34m\u001b[0m\u001b[0m\n",
      "\u001b[0;32m~/opt/anaconda3/envs/drlnd/lib/python3.6/site-packages/matplotlib/axes/_base.py\u001b[0m in \u001b[0;36m__call__\u001b[0;34m(self, data, *args, **kwargs)\u001b[0m\n\u001b[1;32m    271\u001b[0m                 \u001b[0mthis\u001b[0m \u001b[0;34m+=\u001b[0m \u001b[0margs\u001b[0m\u001b[0;34m[\u001b[0m\u001b[0;36m0\u001b[0m\u001b[0;34m]\u001b[0m\u001b[0;34m,\u001b[0m\u001b[0;34m\u001b[0m\u001b[0;34m\u001b[0m\u001b[0m\n\u001b[1;32m    272\u001b[0m                 \u001b[0margs\u001b[0m \u001b[0;34m=\u001b[0m \u001b[0margs\u001b[0m\u001b[0;34m[\u001b[0m\u001b[0;36m1\u001b[0m\u001b[0;34m:\u001b[0m\u001b[0;34m]\u001b[0m\u001b[0;34m\u001b[0m\u001b[0;34m\u001b[0m\u001b[0m\n\u001b[0;32m--> 273\u001b[0;31m             \u001b[0;32myield\u001b[0m \u001b[0;32mfrom\u001b[0m \u001b[0mself\u001b[0m\u001b[0;34m.\u001b[0m\u001b[0m_plot_args\u001b[0m\u001b[0;34m(\u001b[0m\u001b[0mthis\u001b[0m\u001b[0;34m,\u001b[0m \u001b[0mkwargs\u001b[0m\u001b[0;34m)\u001b[0m\u001b[0;34m\u001b[0m\u001b[0;34m\u001b[0m\u001b[0m\n\u001b[0m\u001b[1;32m    274\u001b[0m \u001b[0;34m\u001b[0m\u001b[0m\n\u001b[1;32m    275\u001b[0m     \u001b[0;32mdef\u001b[0m \u001b[0mget_next_color\u001b[0m\u001b[0;34m(\u001b[0m\u001b[0mself\u001b[0m\u001b[0;34m)\u001b[0m\u001b[0;34m:\u001b[0m\u001b[0;34m\u001b[0m\u001b[0;34m\u001b[0m\u001b[0m\n",
      "\u001b[0;32m~/opt/anaconda3/envs/drlnd/lib/python3.6/site-packages/matplotlib/axes/_base.py\u001b[0m in \u001b[0;36m_plot_args\u001b[0;34m(self, tup, kwargs)\u001b[0m\n\u001b[1;32m    397\u001b[0m \u001b[0;34m\u001b[0m\u001b[0m\n\u001b[1;32m    398\u001b[0m         \u001b[0;32mif\u001b[0m \u001b[0mx\u001b[0m\u001b[0;34m.\u001b[0m\u001b[0mshape\u001b[0m\u001b[0;34m[\u001b[0m\u001b[0;36m0\u001b[0m\u001b[0;34m]\u001b[0m \u001b[0;34m!=\u001b[0m \u001b[0my\u001b[0m\u001b[0;34m.\u001b[0m\u001b[0mshape\u001b[0m\u001b[0;34m[\u001b[0m\u001b[0;36m0\u001b[0m\u001b[0;34m]\u001b[0m\u001b[0;34m:\u001b[0m\u001b[0;34m\u001b[0m\u001b[0;34m\u001b[0m\u001b[0m\n\u001b[0;32m--> 399\u001b[0;31m             raise ValueError(f\"x and y must have same first dimension, but \"\n\u001b[0m\u001b[1;32m    400\u001b[0m                              f\"have shapes {x.shape} and {y.shape}\")\n\u001b[1;32m    401\u001b[0m         \u001b[0;32mif\u001b[0m \u001b[0mx\u001b[0m\u001b[0;34m.\u001b[0m\u001b[0mndim\u001b[0m \u001b[0;34m>\u001b[0m \u001b[0;36m2\u001b[0m \u001b[0;32mor\u001b[0m \u001b[0my\u001b[0m\u001b[0;34m.\u001b[0m\u001b[0mndim\u001b[0m \u001b[0;34m>\u001b[0m \u001b[0;36m2\u001b[0m\u001b[0;34m:\u001b[0m\u001b[0;34m\u001b[0m\u001b[0;34m\u001b[0m\u001b[0m\n",
      "\u001b[0;31mValueError\u001b[0m: x and y must have same first dimension, but have shapes (179,) and (100,)"
     ]
    },
    {
     "data": {
      "image/png": "[encoded data removed]",
      "text/plain": [
       "<Figure size 432x288 with 1 Axes>"
      ]
     },
     "metadata": {
      "needs_background": "light"
     },
     "output_type": "display_data"
    }
   ],
   "source": [
    "scores, scores_window = ddpg()\n",
    "\n",
    "fig = plt.figure()\n",
    "ax = fig.add_subplot(111)\n",
    "plt.plot(np.arange(1, len(scores_window)+1), scores_window)\n",
    "plt.ylabel('Score')\n",
    "plt.xlabel('Episode #')\n",
    "plt.show()"
   ]
  },
  {
   "cell_type": "code",
   "execution_count": 19,
   "metadata": {},
   "outputs": [
    {
     "data": {
      "image/png": "[encoded data removed]",
      "text/plain": [
       "<Figure size 432x288 with 1 Axes>"
      ]
     },
     "metadata": {
      "needs_background": "light"
     },
     "output_type": "display_data"
    }
   ],
   "source": [
    "fig = plt.figure()\n",
    "ax = fig.add_subplot(111)\n",
    "plt.plot(np.arange(1, len(scores)+1), scores)\n",
    "plt.ylabel('Score')\n",
    "plt.xlabel('Episode #')\n",
    "plt.savefig('Training_Score.png')"
   ]
  },
  {
   "cell_type": "code",
   "execution_count": null,
   "metadata": {},
   "outputs": [],
   "source": []
  }
 ],
 "metadata": {
  "kernelspec": {
   "display_name": "drlnd",
   "language": "python",
   "name": "drlnd"
  },
  "language_info": {
   "codemirror_mode": {
    "name": "ipython",
    "version": 3
   },
   "file_extension": ".py",
   "mimetype": "text/x-python",
   "name": "python",
   "nbconvert_exporter": "python",
   "pygments_lexer": "ipython3",
   "version": "3.6.13"
  }
 },
 "nbformat": 4,
 "nbformat_minor": 4
}
